{
  "cells": [
    {
      "cell_type": "markdown",
      "metadata": {
        "id": "view-in-github",
        "colab_type": "text"
      },
      "source": [
        "<a href=\"https://colab.research.google.com/github/tiagopatriciosantos/learn-and-share/blob/main/Target_Encoding.ipynb\" target=\"_parent\"><img src=\"https://colab.research.google.com/assets/colab-badge.svg\" alt=\"Open In Colab\"/></a>"
      ]
    },
    {
      "cell_type": "markdown",
      "source": [
        "The technique it's called target encoding, meant for categorical features. It's a method of encoding categories as numbers, like one-hot or label encoding, with the difference that it also uses the target to create the encoding. This makes it a supervised feature engineering technique.\n"
      ],
      "metadata": {
        "id": "fn-JBO9kMhdB"
      }
    },
    {
      "cell_type": "markdown",
      "source": [
        "## Mean target encoding\n",
        "\n",
        "Create a function that implements mean target encoding by developing the two following steps:\n",
        "\n",
        "- Calculate the mean on the train, apply to the test\n",
        "- Split train into K folds. Calculate the out-of-fold mean for each fold, apply to this particular fold\n",
        "\n",
        "Each of these steps will be implemented in a separate function: test_mean_target_encoding() and train_mean_target_encoding(), respectively.\n",
        "\n",
        "The final function mean_target_encoding() takes as arguments: \n",
        "- the train and test DataFrames\n",
        "- the name of the categorical column to be encoded\n",
        "- the name of the target column and a smoothing parameter alpha. \n",
        "\n",
        "It returns two values: a new feature for train and test DataFrames, respectively."
      ],
      "metadata": {
        "id": "RdEFuJy7J_V6"
      }
    },
    {
      "cell_type": "code",
      "source": [
        "def test_mean_target_encoding(train, test, target, categorical, alpha=5):\n",
        "    # Calculate global mean on the train data\n",
        "    global_mean = train[target].mean()\n",
        "    \n",
        "    # Group by the categorical feature and calculate its properties\n",
        "    train_groups = train.groupby(categorical)\n",
        "    category_sum = train_groups[target].sum()\n",
        "    category_size = train_groups.size()\n",
        "    \n",
        "    # Calculate smoothed mean target statistics\n",
        "    train_statistics = (category_sum + global_mean * alpha) / (category_size + alpha)\n",
        "    \n",
        "    # Apply statistics to the test data and fill new categories\n",
        "    test_feature = test[categorical].map(train_statistics).fillna(global_mean)\n",
        "    return test_feature.values"
      ],
      "metadata": {
        "id": "mQ5K-FPFKGzU"
      },
      "execution_count": null,
      "outputs": []
    },
    {
      "cell_type": "code",
      "source": [
        "def train_mean_target_encoding(train, target, categorical, alpha=5):\n",
        "    # Create 5-fold cross-validation\n",
        "    kf = KFold(n_splits=5, random_state=123, shuffle=True)\n",
        "    train_feature = pd.Series(index=train.index)\n",
        "    \n",
        "    # For each folds split\n",
        "    for train_index, test_index in kf.split(train):\n",
        "        cv_train, cv_test = train.iloc[train_index], train.iloc[test_index]\n",
        "      \n",
        "        # Calculate out-of-fold statistics and apply to cv_test\n",
        "        cv_test_feature = test_mean_target_encoding(cv_train, cv_test, target, categorical, alpha)\n",
        "        \n",
        "        # Save new feature for this particular fold\n",
        "        train_feature.iloc[test_index] = cv_test_feature       \n",
        "    return train_feature.values"
      ],
      "metadata": {
        "id": "PGwt5hHfKIPj"
      },
      "execution_count": null,
      "outputs": []
    },
    {
      "cell_type": "code",
      "execution_count": null,
      "metadata": {
        "id": "lIYdn1woOS1n"
      },
      "outputs": [],
      "source": [
        "def mean_target_encoding(train, test, target, categorical, alpha=5):\n",
        "  \n",
        "    # Get the train feature\n",
        "    train_feature = train_mean_target_encoding(train, target, categorical, alpha)\n",
        "  \n",
        "    # Get the test feature\n",
        "    test_feature = test_mean_target_encoding(train, test, target, categorical, alpha)\n",
        "    \n",
        "    # Return new features to add to the model\n",
        "    return train_feature, test_feature"
      ]
    },
    {
      "cell_type": "markdown",
      "source": [
        "## EXAMPLE\n",
        "\n",
        "K-fold cross-validation\n",
        "\n",
        "You will work with a binary classification problem on a subsample from Kaggle playground competition. The objective of this competition is to predict whether a famous basketball player Kobe Bryant scored a basket or missed a particular shot.\n",
        "\n",
        "Train data is available in your workspace as bryant_shots DataFrame. It contains data on 10,000 shots with its properties and a target variable \"shot\\_made\\_flag\" -- whether shot was scored or not.\n",
        "\n",
        "One of the features in the data is \"game_id\" -- a particular game where the shot was made. There are 541 distinct games. So, you deal with a high-cardinality categorical feature. Let's encode it using a target mean!\n",
        "\n",
        "Suppose you're using 5-fold cross-validation and want to evaluate a mean target encoded feature on the local validation."
      ],
      "metadata": {
        "id": "Yo5qBrLKKWJf"
      }
    },
    {
      "cell_type": "code",
      "source": [
        "## EXAMPLE\n",
        "\n",
        "\n",
        "# Create 5-fold cross-validation\n",
        "kf = KFold(n_splits=5, random_state=123, shuffle=True)\n",
        "\n",
        "# For each folds split\n",
        "for train_index, test_index in kf.split(bryant_shots):\n",
        "    cv_train, cv_test = bryant_shots.iloc[train_index], bryant_shots.iloc[test_index]\n",
        "\n",
        "    # Create mean target encoded feature\n",
        "    cv_train['game_id_enc'], cv_test['game_id_enc'] = mean_target_encoding(train=cv_train,\n",
        "                                                                           test=cv_test,\n",
        "                                                                           target='shot_made_flag',\n",
        "                                                                           categorical='game_id',\n",
        "                                                                           alpha=5)\n",
        "    # Look at the encoding\n",
        "    print(cv_train[['game_id', 'shot_made_flag', 'game_id_enc']].sample(n=1))"
      ],
      "metadata": {
        "id": "YgZK9GnuKOGj"
      },
      "execution_count": null,
      "outputs": []
    },
    {
      "cell_type": "markdown",
      "source": [
        "### Beyond binary classification Example\n",
        "\n",
        "Of course, binary classification is just a single special case. Target encoding could be applied to any target variable type:\n",
        "\n",
        "For binary classification usually mean target encoding is used\n",
        "For regression mean could be changed to median, quartiles, etc.\n",
        "For multi-class classification with N classes we create N features with target mean for each category in one vs. all fashion\n",
        "The mean_target_encoding() function you've created could be used for any target type specified above. Let's apply it for the regression problem on the example of House Prices Kaggle competition.\n",
        "\n",
        "Your goal is to encode a categorical feature \"RoofStyle\" using mean target encoding. The train and test DataFrames are already available in your workspace."
      ],
      "metadata": {
        "id": "sNN2akvuK3CH"
      }
    },
    {
      "cell_type": "code",
      "source": [
        "# Create mean target encoded feature\n",
        "train['RoofStyle_enc'], test['RoofStyle_enc'] = mean_target_encoding(train=train,\n",
        "                                                                     test=test,\n",
        "                                                                     target=\"SalePrice\",\n",
        "                                                                     categorical=\"RoofStyle\",\n",
        "                                                                     alpha=10)\n",
        "\n",
        "# Look at the encoding\n",
        "print(test[['RoofStyle', 'RoofStyle_enc']].drop_duplicates())"
      ],
      "metadata": {
        "id": "xp31q_p9K4bd"
      },
      "execution_count": null,
      "outputs": []
    }
  ],
  "metadata": {
    "colab": {
      "provenance": [],
      "include_colab_link": true
    },
    "kernelspec": {
      "display_name": "Python 3",
      "name": "python3"
    }
  },
  "nbformat": 4,
  "nbformat_minor": 0
}